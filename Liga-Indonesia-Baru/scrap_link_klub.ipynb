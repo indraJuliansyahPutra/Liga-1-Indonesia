{
 "cells": [
  {
   "cell_type": "code",
   "execution_count": 1,
   "id": "d12750c3",
   "metadata": {},
   "outputs": [
    {
     "data": {
      "text/plain": [
       "['https://ligaindonesiabaru.com/clubs/single/BRI_LIGA_1_2024-25/AREMA_FC',\n",
       " 'https://ligaindonesiabaru.com/clubs/single/BRI_LIGA_1_2024-25/BALI_UNITED_FC',\n",
       " 'https://ligaindonesiabaru.com/clubs/single/BRI_LIGA_1_2024-25/BORNEO_FC_SAMARINDA',\n",
       " 'https://ligaindonesiabaru.com/clubs/single/BRI_LIGA_1_2024-25/DEWA_UNITED_FC',\n",
       " 'https://ligaindonesiabaru.com/clubs/single/BRI_LIGA_1_2024-25/MADURA_UNITED_FC',\n",
       " 'https://ligaindonesiabaru.com/clubs/single/BRI_LIGA_1_2024-25/MALUT_UNITED_FC',\n",
       " 'https://ligaindonesiabaru.com/clubs/single/BRI_LIGA_1_2024-25/PERSEBAYA_SURABAYA',\n",
       " 'https://ligaindonesiabaru.com/clubs/single/BRI_LIGA_1_2024-25/PERSIB_BANDUNG',\n",
       " 'https://ligaindonesiabaru.com/clubs/single/BRI_LIGA_1_2024-25/PERSIJA_JAKARTA',\n",
       " 'https://ligaindonesiabaru.com/clubs/single/BRI_LIGA_1_2024-25/PERSIK_KEDIRI',\n",
       " 'https://ligaindonesiabaru.com/clubs/single/BRI_LIGA_1_2024-25/PERSIS_SOLO',\n",
       " 'https://ligaindonesiabaru.com/clubs/single/BRI_LIGA_1_2024-25/PERSITA',\n",
       " 'https://ligaindonesiabaru.com/clubs/single/BRI_LIGA_1_2024-25/PS_BARITO_PUTERA',\n",
       " 'https://ligaindonesiabaru.com/clubs/single/BRI_LIGA_1_2024-25/PSBS_BIAK',\n",
       " 'https://ligaindonesiabaru.com/clubs/single/BRI_LIGA_1_2024-25/PSIS_SEMARANG',\n",
       " 'https://ligaindonesiabaru.com/clubs/single/BRI_LIGA_1_2024-25/PSM_MAKASSAR',\n",
       " 'https://ligaindonesiabaru.com/clubs/single/BRI_LIGA_1_2024-25/PSS_SLEMAN_',\n",
       " 'https://ligaindonesiabaru.com/clubs/single/BRI_LIGA_1_2024-25/SEMEN_PADANG_FC']"
      ]
     },
     "execution_count": 1,
     "metadata": {},
     "output_type": "execute_result"
    }
   ],
   "source": [
    "from selenium import webdriver\n",
    "from selenium.webdriver.chrome.service import Service\n",
    "from selenium.webdriver.common.by import By\n",
    "import time\n",
    "import pandas as pd\n",
    "\n",
    "chrome_driver_path = 'E:\\Liga 1 Fix\\chromedriver-win64\\chromedriver.exe'\n",
    "\n",
    "\n",
    "# Setup Driver\n",
    "options = webdriver.ChromeOptions()\n",
    "#options.add_argument(\"--headless\") # Biar Chrome-nya tidak dibuka (Jalan di belakang)\n",
    "service = Service(chrome_driver_path)\n",
    "driver = webdriver.Chrome(service=service, options=options)\n",
    "driver.maximize_window() # Kalo headless, ini nggak berguna\n",
    "\n",
    "url = \"https://ligaindonesiabaru.com/clubs/index/BRI_LIGA_1_2024-25\"\n",
    "\n",
    "driver.get(url)\n",
    "time.sleep(2)\n",
    "\n",
    "link_klub_elements = driver.find_elements(By.XPATH, '/html/body/div[2]/section/div/div/div/div/a')\n",
    "link_klub = [element.get_attribute('href') for element in link_klub_elements]\n",
    "driver.close()\n",
    "link_klub"
   ]
  },
  {
   "cell_type": "code",
   "execution_count": 2,
   "id": "ef75c46c",
   "metadata": {},
   "outputs": [
    {
     "data": {
      "text/plain": [
       "['https://ligaindonesiabaru.com/clubs/single/BRI_LIGA_1_2024-25/AREMA_FC',\n",
       " 'https://ligaindonesiabaru.com/clubs/single/BRI_LIGA_1_2024-25/BALI_UNITED_FC',\n",
       " 'https://ligaindonesiabaru.com/clubs/single/BRI_LIGA_1_2024-25/BORNEO_FC_SAMARINDA',\n",
       " 'https://ligaindonesiabaru.com/clubs/single/BRI_LIGA_1_2024-25/DEWA_UNITED_FC',\n",
       " 'https://ligaindonesiabaru.com/clubs/single/BRI_LIGA_1_2024-25/MADURA_UNITED_FC',\n",
       " 'https://ligaindonesiabaru.com/clubs/single/BRI_LIGA_1_2024-25/MALUT_UNITED_FC',\n",
       " 'https://ligaindonesiabaru.com/clubs/single/BRI_LIGA_1_2024-25/PERSEBAYA_SURABAYA',\n",
       " 'https://ligaindonesiabaru.com/clubs/single/BRI_LIGA_1_2024-25/PERSIB_BANDUNG',\n",
       " 'https://ligaindonesiabaru.com/clubs/single/BRI_LIGA_1_2024-25/PERSIJA_JAKARTA',\n",
       " 'https://ligaindonesiabaru.com/clubs/single/BRI_LIGA_1_2024-25/PERSIK_KEDIRI',\n",
       " 'https://ligaindonesiabaru.com/clubs/single/BRI_LIGA_1_2024-25/PERSIS_SOLO',\n",
       " 'https://ligaindonesiabaru.com/clubs/single/BRI_LIGA_1_2024-25/PERSITA',\n",
       " 'https://ligaindonesiabaru.com/clubs/single/BRI_LIGA_1_2024-25/PS_BARITO_PUTERA',\n",
       " 'https://ligaindonesiabaru.com/clubs/single/BRI_LIGA_1_2024-25/PSBS_BIAK',\n",
       " 'https://ligaindonesiabaru.com/clubs/single/BRI_LIGA_1_2024-25/PSIS_SEMARANG',\n",
       " 'https://ligaindonesiabaru.com/clubs/single/BRI_LIGA_1_2024-25/PSM_MAKASSAR',\n",
       " 'https://ligaindonesiabaru.com/clubs/single/BRI_LIGA_1_2024-25/PSS_SLEMAN_',\n",
       " 'https://ligaindonesiabaru.com/clubs/single/BRI_LIGA_1_2024-25/SEMEN_PADANG_FC']"
      ]
     },
     "execution_count": 2,
     "metadata": {},
     "output_type": "execute_result"
    }
   ],
   "source": [
    "link_klub"
   ]
  },
  {
   "cell_type": "code",
   "execution_count": 3,
   "id": "ee1d0b76",
   "metadata": {},
   "outputs": [],
   "source": [
    "pd.set_option('display.max_columns', None)\n",
    "pd.set_option('display.max_rows', None)\n",
    "pd.set_option('display.max_colwidth', None)"
   ]
  },
  {
   "cell_type": "code",
   "execution_count": 4,
   "id": "9be073b6",
   "metadata": {},
   "outputs": [
    {
     "name": "stdout",
     "output_type": "stream",
     "text": [
      "                                                                            Link Klub\n",
      "0              https://ligaindonesiabaru.com/clubs/single/BRI_LIGA_1_2024-25/AREMA_FC\n",
      "1        https://ligaindonesiabaru.com/clubs/single/BRI_LIGA_1_2024-25/BALI_UNITED_FC\n",
      "2   https://ligaindonesiabaru.com/clubs/single/BRI_LIGA_1_2024-25/BORNEO_FC_SAMARINDA\n",
      "3        https://ligaindonesiabaru.com/clubs/single/BRI_LIGA_1_2024-25/DEWA_UNITED_FC\n",
      "4      https://ligaindonesiabaru.com/clubs/single/BRI_LIGA_1_2024-25/MADURA_UNITED_FC\n",
      "5       https://ligaindonesiabaru.com/clubs/single/BRI_LIGA_1_2024-25/MALUT_UNITED_FC\n",
      "6    https://ligaindonesiabaru.com/clubs/single/BRI_LIGA_1_2024-25/PERSEBAYA_SURABAYA\n",
      "7        https://ligaindonesiabaru.com/clubs/single/BRI_LIGA_1_2024-25/PERSIB_BANDUNG\n",
      "8       https://ligaindonesiabaru.com/clubs/single/BRI_LIGA_1_2024-25/PERSIJA_JAKARTA\n",
      "9         https://ligaindonesiabaru.com/clubs/single/BRI_LIGA_1_2024-25/PERSIK_KEDIRI\n",
      "10          https://ligaindonesiabaru.com/clubs/single/BRI_LIGA_1_2024-25/PERSIS_SOLO\n",
      "11              https://ligaindonesiabaru.com/clubs/single/BRI_LIGA_1_2024-25/PERSITA\n",
      "12     https://ligaindonesiabaru.com/clubs/single/BRI_LIGA_1_2024-25/PS_BARITO_PUTERA\n",
      "13            https://ligaindonesiabaru.com/clubs/single/BRI_LIGA_1_2024-25/PSBS_BIAK\n",
      "14        https://ligaindonesiabaru.com/clubs/single/BRI_LIGA_1_2024-25/PSIS_SEMARANG\n",
      "15         https://ligaindonesiabaru.com/clubs/single/BRI_LIGA_1_2024-25/PSM_MAKASSAR\n",
      "16          https://ligaindonesiabaru.com/clubs/single/BRI_LIGA_1_2024-25/PSS_SLEMAN_\n",
      "17      https://ligaindonesiabaru.com/clubs/single/BRI_LIGA_1_2024-25/SEMEN_PADANG_FC\n"
     ]
    }
   ],
   "source": [
    "data_link_klub = pd.DataFrame(link_klub, columns=['Link Klub'])\n",
    "print(data_link_klub)"
   ]
  },
  {
   "cell_type": "code",
   "execution_count": 5,
   "id": "7cea8fd2",
   "metadata": {},
   "outputs": [],
   "source": [
    "data_link_klub.to_csv('Link_Klub.csv', index=False)"
   ]
  }
 ],
 "metadata": {
  "kernelspec": {
   "display_name": "Python 3",
   "language": "python",
   "name": "python3"
  },
  "language_info": {
   "codemirror_mode": {
    "name": "ipython",
    "version": 3
   },
   "file_extension": ".py",
   "mimetype": "text/x-python",
   "name": "python",
   "nbconvert_exporter": "python",
   "pygments_lexer": "ipython3",
   "version": "3.9.2"
  }
 },
 "nbformat": 4,
 "nbformat_minor": 5
}
