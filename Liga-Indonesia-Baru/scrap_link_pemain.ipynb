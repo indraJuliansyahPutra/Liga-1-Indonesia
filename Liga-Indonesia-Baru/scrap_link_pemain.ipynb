{
 "cells": [
  {
   "cell_type": "code",
   "execution_count": 2,
   "id": "aa832497",
   "metadata": {},
   "outputs": [
    {
     "name": "stdout",
     "output_type": "stream",
     "text": [
      "Scrap link klub:  https://ligaindonesiabaru.com/clubs/single/BRI_LIGA_1_2024-25/AREMA_FC\n",
      "Total 30 link pemain berhasil di simpan ke 'AREMA_FC.csv\n",
      "Scrap link klub:  https://ligaindonesiabaru.com/clubs/single/BRI_LIGA_1_2024-25/BALI_UNITED_FC\n",
      "Total 38 link pemain berhasil di simpan ke 'BALI_UNITED_FC.csv\n"
     ]
    }
   ],
   "source": [
    "from selenium import webdriver\n",
    "from selenium.webdriver.chrome.service import Service\n",
    "from selenium.webdriver.common.by import By\n",
    "import time\n",
    "import pandas as pd\n",
    "import re\n",
    "\n",
    "chrome_driver_path = \"E:\\Liga 1 Fix\\chromedriver-win64\\chromedriver.exe\"\n",
    "\n",
    "link_klub = pd.read_csv('Link_Klub.csv')\n",
    "link_klub = link_klub['Link Klub'].tolist()\n",
    "for link in link_klub[:2]:\n",
    "\n",
    "    # Setup Driver\n",
    "    options = webdriver.ChromeOptions()\n",
    "    #options.add_argument(\"--headless\") # Biar Chrome-nya tidak dibuka (Jalan di belakang)\n",
    "    service = Service(chrome_driver_path)\n",
    "    driver = webdriver.Chrome(service=service, options=options)\n",
    "    driver.maximize_window() # Kalo headless, ini nggak berguna\n",
    "\n",
    "    driver.get(link)\n",
    "\n",
    "    pola = r'(?<=/single/BRI_LIGA_1_2024-25/)([A-Za-z0-9_]+)'\n",
    "    nama_klub = re.search(pola, link).group(1)\n",
    "    print(\"Scrap link klub: \", link)\n",
    "\n",
    "    time.sleep(3)\n",
    "\n",
    "    try:\n",
    "        xpath_tab_pemain = '/html/body/div[2]/section/div/div/div/div[1]/ul/li[2]/a' # Klik Menu Pemain\n",
    "        tab_pemain = driver.find_element(By.XPATH, xpath_tab_pemain)\n",
    "        tab_pemain.click()\n",
    "        time.sleep(3)\n",
    "    except Exception as e:\n",
    "        print('Gagal Klik tab pemain: ', e) # Nampilin Jenis ERRORNYA (KALAU ERROR)\n",
    "        driver.quit() # Close Chrome\n",
    "        exit()\n",
    "\n",
    "    links_pemain = []\n",
    "    i = 1\n",
    "    while True:\n",
    "        try:\n",
    "            xpath_pemain = f\"/html/body/div[2]/section/div/div/div/div[2]/div/div[2]/div/div[{i}]/div/a\"\n",
    "            element_pemain = driver.find_element(By.XPATH, xpath_pemain)\n",
    "            href = element_pemain.get_attribute(\"href\")\n",
    "            if href:\n",
    "                links_pemain.append(href)\n",
    "            i += 1\n",
    "        except:\n",
    "            break # Stop kalau elemen tidak ditemukan lagi\n",
    "\n",
    "    data = pd.DataFrame(links_pemain, columns=['Link Pemain'])\n",
    "    data.to_csv(f'sementara-Link Pemain/{nama_klub}.csv', index=False, encoding='utf-8-sig')\n",
    "    print(f\"Total {len(links_pemain)} link pemain berhasil di simpan ke '{nama_klub}.csv\")\n",
    "\n",
    "driver.quit()"
   ]
  }
 ],
 "metadata": {
  "kernelspec": {
   "display_name": "Python 3",
   "language": "python",
   "name": "python3"
  },
  "language_info": {
   "codemirror_mode": {
    "name": "ipython",
    "version": 3
   },
   "file_extension": ".py",
   "mimetype": "text/x-python",
   "name": "python",
   "nbconvert_exporter": "python",
   "pygments_lexer": "ipython3",
   "version": "3.9.2"
  }
 },
 "nbformat": 4,
 "nbformat_minor": 5
}
