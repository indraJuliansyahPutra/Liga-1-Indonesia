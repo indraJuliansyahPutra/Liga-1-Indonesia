{
 "cells": [
  {
   "cell_type": "code",
   "execution_count": 1,
   "id": "c0b3d276",
   "metadata": {},
   "outputs": [
    {
     "data": {
      "text/plain": [
       "['https://www.transfermarkt.co.id/persib-bandung/kader/verein/14105/saison_id/2024/plus/1',\n",
       " 'https://www.transfermarkt.co.id/semen-padang-fc/kader/verein/34826/saison_id/2024/plus/1',\n",
       " 'https://www.transfermarkt.co.id/persis-solo/kader/verein/31450/saison_id/2024/plus/1',\n",
       " 'https://www.transfermarkt.co.id/borneo-fc-samarinda/kader/verein/50276/saison_id/2024/plus/1',\n",
       " 'https://www.transfermarkt.co.id/bali-united-fc/kader/verein/49425/saison_id/2024/plus/1',\n",
       " 'https://www.transfermarkt.co.id/persebaya-surabaya/kader/verein/31444/saison_id/2024/plus/1',\n",
       " 'https://www.transfermarkt.co.id/psbs-biak-numfor/kader/verein/72715/saison_id/2024/plus/1',\n",
       " 'https://www.transfermarkt.co.id/ps-sleman/kader/verein/38560/saison_id/2024/plus/1',\n",
       " 'https://www.transfermarkt.co.id/persija-jakarta/kader/verein/14107/saison_id/2024/plus/1',\n",
       " 'https://www.transfermarkt.co.id/arema-fc/kader/verein/12971/saison_id/2024/plus/1',\n",
       " 'https://www.transfermarkt.co.id/madura-united-fc/kader/verein/41654/saison_id/2024/plus/1',\n",
       " 'https://www.transfermarkt.co.id/psis-semarang/kader/verein/20646/saison_id/2024/plus/1',\n",
       " 'https://www.transfermarkt.co.id/psm-makassar/kader/verein/14104/saison_id/2024/plus/1',\n",
       " 'https://www.transfermarkt.co.id/persita-tangerang/kader/verein/14112/saison_id/2024/plus/1',\n",
       " 'https://www.transfermarkt.co.id/ps-barito-putera/kader/verein/36633/saison_id/2024/plus/1',\n",
       " 'https://www.transfermarkt.co.id/persik-kediri/kader/verein/14106/saison_id/2024/plus/1',\n",
       " 'https://www.transfermarkt.co.id/dewa-united-fc/kader/verein/72710/saison_id/2024/plus/1',\n",
       " 'https://www.transfermarkt.co.id/putra-jombang-fc/kader/verein/97916/saison_id/2024/plus/1']"
      ]
     },
     "execution_count": 1,
     "metadata": {},
     "output_type": "execute_result"
    }
   ],
   "source": [
    "from selenium import webdriver\n",
    "from selenium.webdriver.chrome.service import Service\n",
    "from selenium.webdriver.common.by import By\n",
    "import time\n",
    "import pandas as pd\n",
    "\n",
    "chrome_driver_path = 'E:\\Liga 1 Fix\\chromedriver-win64\\chromedriver.exe'\n",
    "\n",
    "\n",
    "# Setup Driver\n",
    "options = webdriver.ChromeOptions()\n",
    "options.add_argument(\"--headless\") # Biar Chrome-nya tidak dibuka (Jalan di belakang)\n",
    "service = Service(chrome_driver_path)\n",
    "driver = webdriver.Chrome(service=service, options=options)\n",
    "#driver.maximize_window() # Kalo headless, ini nggak berguna\n",
    "\n",
    "url = \"https://www.transfermarkt.co.id/liga-1-indonesia/startseite/wettbewerb/IN1L\"\n",
    "driver.get(url)\n",
    "time.sleep(2)\n",
    "\n",
    "# Ambil elemen link klub\n",
    "link_klub_elements = driver.find_elements(By.XPATH, '/html/body/div[1]/main/div[1]/div[1]/div[2]/div[2]/div/table/tbody/tr/td[2]/a')\n",
    "link_klub = [element.get_attribute('href') for element in link_klub_elements]\n",
    "\n",
    "# Filter link yang valid (yang bukan link kompetisi)\n",
    "link_klub_valid = list(set(filter(lambda x: \"verein\" in x, link_klub)))  # set() biar duplikat otomatis hilang\n",
    "\n",
    "# Ubah format link (Akan membantu ketika ingin mengambil link skuad)\n",
    "link_klub_final = [link.replace(\"/startseite/\", \"/kader/\") + \"/plus/1\" for link in link_klub_valid]\n",
    "driver.quit()\n",
    "\n",
    "link_klub_final"
   ]
  },
  {
   "cell_type": "code",
   "execution_count": 2,
   "id": "6c8fddaf",
   "metadata": {},
   "outputs": [],
   "source": [
    "data = pd.DataFrame(link_klub_final, columns=['Link Klub'])\n",
    "data.to_csv('Link Klub.csv', index=False)"
   ]
  }
 ],
 "metadata": {
  "kernelspec": {
   "display_name": "Python 3",
   "language": "python",
   "name": "python3"
  },
  "language_info": {
   "codemirror_mode": {
    "name": "ipython",
    "version": 3
   },
   "file_extension": ".py",
   "mimetype": "text/x-python",
   "name": "python",
   "nbconvert_exporter": "python",
   "pygments_lexer": "ipython3",
   "version": "3.9.2"
  }
 },
 "nbformat": 4,
 "nbformat_minor": 5
}
