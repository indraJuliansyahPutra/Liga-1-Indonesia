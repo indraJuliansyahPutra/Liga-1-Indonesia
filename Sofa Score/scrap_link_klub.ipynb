{
 "cells": [
  {
   "cell_type": "code",
   "execution_count": 1,
   "id": "8576e8d6",
   "metadata": {},
   "outputs": [
    {
     "data": {
      "text/plain": [
       "['https://www.sofascore.com/id/tim/sepak-bola/persib-bandung/64289',\n",
       " 'https://www.sofascore.com/id/tim/sepak-bola/dewa-united-fc/383891',\n",
       " 'https://www.sofascore.com/id/tim/sepak-bola/malut-united/491968',\n",
       " 'https://www.sofascore.com/id/tim/sepak-bola/borneo-fc-samarinda/189945',\n",
       " 'https://www.sofascore.com/id/tim/sepak-bola/persebaya-surabaya/76319',\n",
       " 'https://www.sofascore.com/id/tim/sepak-bola/psm-makassar/135864',\n",
       " 'https://www.sofascore.com/id/tim/sepak-bola/persija-jakarta/64295',\n",
       " 'https://www.sofascore.com/id/tim/sepak-bola/bali-united-fc/64299',\n",
       " 'https://www.sofascore.com/id/tim/sepak-bola/psbs-biak/266861',\n",
       " 'https://www.sofascore.com/id/tim/sepak-bola/arema-fc/47465',\n",
       " 'https://www.sofascore.com/id/tim/sepak-bola/persita-tangerang/86576',\n",
       " 'https://www.sofascore.com/id/tim/sepak-bola/persik-kediri/135866',\n",
       " 'https://www.sofascore.com/id/tim/sepak-bola/semen-padang/86066',\n",
       " 'https://www.sofascore.com/id/tim/sepak-bola/persis-solo/200020',\n",
       " 'https://www.sofascore.com/id/tim/sepak-bola/madura-united/86578',\n",
       " 'https://www.sofascore.com/id/tim/sepak-bola/pss-sleman/204733',\n",
       " 'https://www.sofascore.com/id/tim/sepak-bola/barito-putera/86542',\n",
       " 'https://www.sofascore.com/id/tim/sepak-bola/psis-semarang/189471']"
      ]
     },
     "execution_count": 1,
     "metadata": {},
     "output_type": "execute_result"
    }
   ],
   "source": [
    "from selenium import webdriver\n",
    "from selenium.webdriver.chrome.service import Service\n",
    "from selenium.webdriver.common.by import By\n",
    "import time\n",
    "import pandas as pd\n",
    "\n",
    "chrome_driver_path = 'E:\\Liga 1 Fix\\chromedriver-win64\\chromedriver.exe'\n",
    "\n",
    "\n",
    "# Setup Driver\n",
    "options = webdriver.ChromeOptions()\n",
    "#options.add_argument(\"--headless\") # Biar Chrome-nya tidak dibuka (Jalan di belakang)\n",
    "service = Service(chrome_driver_path)\n",
    "driver = webdriver.Chrome(service=service, options=options)\n",
    "driver.maximize_window() # Kalo headless, ini nggak berguna\n",
    "\n",
    "url = \"https://www.sofascore.com/id/turnamen/sepak-bola/indonesia/liga-1/1015#id:65049\"\n",
    "\n",
    "driver.get(url)\n",
    "time.sleep(2)\n",
    "\n",
    "link_klub_elements = driver.find_elements(By.XPATH, '/html/body/div[1]/main/div/div[3]/div/div[1]/div[1]/div[2]/div[1]/div[2]/div/div[2]/div/a')\n",
    "link_klub = [element.get_attribute('href') for element in link_klub_elements]\n",
    "driver.quit()\n",
    "link_klub"
   ]
  },
  {
   "cell_type": "code",
   "execution_count": 2,
   "id": "97bf9d57",
   "metadata": {},
   "outputs": [
    {
     "name": "stdout",
     "output_type": "stream",
     "text": [
      "                                            Link Klub\n",
      "0   https://www.sofascore.com/id/tim/sepak-bola/pe...\n",
      "1   https://www.sofascore.com/id/tim/sepak-bola/de...\n",
      "2   https://www.sofascore.com/id/tim/sepak-bola/ma...\n",
      "3   https://www.sofascore.com/id/tim/sepak-bola/bo...\n",
      "4   https://www.sofascore.com/id/tim/sepak-bola/pe...\n",
      "5   https://www.sofascore.com/id/tim/sepak-bola/ps...\n",
      "6   https://www.sofascore.com/id/tim/sepak-bola/pe...\n",
      "7   https://www.sofascore.com/id/tim/sepak-bola/ba...\n",
      "8   https://www.sofascore.com/id/tim/sepak-bola/ps...\n",
      "9   https://www.sofascore.com/id/tim/sepak-bola/ar...\n",
      "10  https://www.sofascore.com/id/tim/sepak-bola/pe...\n",
      "11  https://www.sofascore.com/id/tim/sepak-bola/pe...\n",
      "12  https://www.sofascore.com/id/tim/sepak-bola/se...\n",
      "13  https://www.sofascore.com/id/tim/sepak-bola/pe...\n",
      "14  https://www.sofascore.com/id/tim/sepak-bola/ma...\n",
      "15  https://www.sofascore.com/id/tim/sepak-bola/ps...\n",
      "16  https://www.sofascore.com/id/tim/sepak-bola/ba...\n",
      "17  https://www.sofascore.com/id/tim/sepak-bola/ps...\n"
     ]
    }
   ],
   "source": [
    "data_link_klub = pd.DataFrame(link_klub, columns=['Link Klub'])\n",
    "print(data_link_klub)"
   ]
  },
  {
   "cell_type": "code",
   "execution_count": 3,
   "id": "b886d765",
   "metadata": {},
   "outputs": [],
   "source": [
    "data_link_klub.to_csv('Link_Klub.csv', index=False)"
   ]
  }
 ],
 "metadata": {
  "kernelspec": {
   "display_name": "Python 3",
   "language": "python",
   "name": "python3"
  },
  "language_info": {
   "codemirror_mode": {
    "name": "ipython",
    "version": 3
   },
   "file_extension": ".py",
   "mimetype": "text/x-python",
   "name": "python",
   "nbconvert_exporter": "python",
   "pygments_lexer": "ipython3",
   "version": "3.9.2"
  }
 },
 "nbformat": 4,
 "nbformat_minor": 5
}
