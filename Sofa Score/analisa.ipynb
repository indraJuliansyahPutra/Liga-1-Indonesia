{
 "cells": [
  {
   "cell_type": "code",
   "execution_count": 11,
   "id": "9389ef27",
   "metadata": {},
   "outputs": [
    {
     "name": "stdout",
     "output_type": "stream",
     "text": [
      "Arema Fc.csv\n",
      "Barito Putera.csv\n",
      "Borneo Fc Samarinda.csv\n",
      "Dewa United Fc.csv\n",
      "Madura United.csv\n",
      "Malut United.csv\n",
      "Persebaya Surabaya.csv\n",
      "Persib Bandung.csv\n",
      "Persik Kediri.csv\n",
      "Persita Tangerang.csv\n",
      "Psbs Biak.csv\n",
      "Psis Semarang.csv\n",
      "Pss Sleman.csv\n",
      "Semen Padang.csv\n",
      "Bali United Fc.csv\n",
      "Persija Jakarta.csv\n",
      "Persis Solo.csv\n",
      "Psm Makassar.csv\n"
     ]
    }
   ],
   "source": [
    "import pandas as pd\n",
    "import os\n",
    "\n",
    "folder_path = \"Data Pemain Gabungan\"\n",
    "csv_files = [file for file in os.listdir(folder_path) if file.endswith(\".csv\")]\n",
    "\n",
    "for file in csv_files:\n",
    "    file_path = os.path.join(folder_path, file)\n",
    "    print(file)\n",
    "    data = pd.read_csv(file_path)\n",
    "\n",
    "    nama_file = file.replace('.csv', \"\")\n",
    "\n",
    "    data = data.drop(columns=['Kewarganegaraan', 'Height', 'Preferred Foot', 'Position', 'Shirt Number'])\n",
    "\n",
    "    data['Nama'] = data['Nama'].str.upper()\n",
    "\n",
    "    data = data[['Nama', 'Att', 'Tac', 'Tec', 'Def', 'Cre', 'Total Bermain', 'Starting Eleven', 'Total Menit', 'Rating', 'Link Pemain']]\n",
    "\n",
    "    data.to_csv(f'Data Bersih/{nama_file}.csv', index=False)"
   ]
  }
 ],
 "metadata": {
  "kernelspec": {
   "display_name": "Python 3",
   "language": "python",
   "name": "python3"
  },
  "language_info": {
   "codemirror_mode": {
    "name": "ipython",
    "version": 3
   },
   "file_extension": ".py",
   "mimetype": "text/x-python",
   "name": "python",
   "nbconvert_exporter": "python",
   "pygments_lexer": "ipython3",
   "version": "3.9.2"
  }
 },
 "nbformat": 4,
 "nbformat_minor": 5
}
