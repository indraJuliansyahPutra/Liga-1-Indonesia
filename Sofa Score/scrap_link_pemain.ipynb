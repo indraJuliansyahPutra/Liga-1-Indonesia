{
 "cells": [
  {
   "cell_type": "code",
   "execution_count": 1,
   "id": "ca613e58",
   "metadata": {},
   "outputs": [
    {
     "name": "stdout",
     "output_type": "stream",
     "text": [
      "Persib Bandung\n",
      "Dewa United Fc\n"
     ]
    }
   ],
   "source": [
    "from selenium import webdriver\n",
    "from selenium.webdriver.chrome.service import Service\n",
    "from selenium.webdriver.common.by import By\n",
    "import time\n",
    "from selenium.webdriver.common.action_chains import ActionChains\n",
    "import pandas as pd\n",
    "import re\n",
    "\n",
    "chrome_driver_path = 'E:\\Liga 1 Fix\\chromedriver-win64\\chromedriver.exe'\n",
    "\n",
    "# Setup Driver\n",
    "options = webdriver.ChromeOptions()\n",
    "#options.add_argument(\"--headless\") # Biar Chrome-nya tidak dibuka (Jalan di belakang)\n",
    "service = Service(chrome_driver_path)\n",
    "driver = webdriver.Chrome(service=service, options=options)\n",
    "driver.maximize_window() # Kalo headless, ini nggak berguna\n",
    "\n",
    "link_klub = pd.read_csv('Link_Klub.csv')\n",
    "link_klub = link_klub['Link Klub'].tolist()\n",
    "\n",
    "for url in link_klub[:2]:\n",
    "    driver.get(url)\n",
    "\n",
    "    # Ambil nama tim dari URL\n",
    "    match = re.search(r'/tim/sepak-bola/([^/]+)/', url)\n",
    "    if match:\n",
    "        nama_tim = match.group(1).replace('-', ' ')  # Ganti dash dengan underscore kalau mau\n",
    "    else:\n",
    "        nama_tim = \"tim_tidak_dikenal\"\n",
    "\n",
    "    nama_tim = nama_tim.title()\n",
    "    print(nama_tim)\n",
    "\n",
    "    # Tunggu beberapa saat agar halaman termuat\n",
    "    time.sleep(2)\n",
    "\n",
    "    # Scroll ke bawah sedikit supaya tombol terlihat (jika perlu)\n",
    "    driver.execute_script(\"window.scrollBy(0, 600);\")\n",
    "    time.sleep(2)\n",
    "\n",
    "    link_klub_elements = driver.find_elements(By.XPATH, '/html/body/div[1]/main/div[2]/div/div[2]/div[1]/div[5]/div/div[3]/div/div[2]/div/a')\n",
    "    link_klub = [element.get_attribute('href') for element in link_klub_elements]\n",
    "\n",
    "    # Simpan ke DataFrame\n",
    "    df_links = pd.DataFrame(link_klub, columns=[\"Link Pemain\"])\n",
    "\n",
    "    df_links.to_csv(f'sementara-Link Pemain/{nama_tim}.csv', index=False)\n",
    "\n",
    "driver.quit()"
   ]
  }
 ],
 "metadata": {
  "kernelspec": {
   "display_name": "Python 3",
   "language": "python",
   "name": "python3"
  },
  "language_info": {
   "codemirror_mode": {
    "name": "ipython",
    "version": 3
   },
   "file_extension": ".py",
   "mimetype": "text/x-python",
   "name": "python",
   "nbconvert_exporter": "python",
   "pygments_lexer": "ipython3",
   "version": "3.9.2"
  }
 },
 "nbformat": 4,
 "nbformat_minor": 5
}
